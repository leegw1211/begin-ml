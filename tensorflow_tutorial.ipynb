{
  "nbformat": 4,
  "nbformat_minor": 0,
  "metadata": {
    "colab": {
      "provenance": [],
      "authorship_tag": "ABX9TyNxDgeXd+XNKZ1GixuJ/MMh",
      "include_colab_link": true
    },
    "kernelspec": {
      "name": "python3",
      "display_name": "Python 3"
    },
    "language_info": {
      "name": "python"
    }
  },
  "cells": [
    {
      "cell_type": "markdown",
      "metadata": {
        "id": "view-in-github",
        "colab_type": "text"
      },
      "source": [
        "<a href=\"https://colab.research.google.com/github/leegw1211/begin-ml/blob/main/tensorflow_tutorial.ipynb\" target=\"_parent\"><img src=\"https://colab.research.google.com/assets/colab-badge.svg\" alt=\"Open In Colab\"/></a>"
      ]
    },
    {
      "cell_type": "code",
      "source": [
        "# tensorflow 입문하기\n",
        "# https://www.tensorflow.org/tutorials/quickstart/beginner?hl=ko"
      ],
      "metadata": {
        "id": "kSztAqQ7QVb3"
      },
      "execution_count": null,
      "outputs": []
    },
    {
      "cell_type": "code",
      "execution_count": 15,
      "metadata": {
        "colab": {
          "base_uri": "https://localhost:8080/"
        },
        "id": "5-oDECE851de",
        "outputId": "d9363e1a-a493-439a-a872-413278b448a6"
      },
      "outputs": [
        {
          "output_type": "stream",
          "name": "stdout",
          "text": [
            "2.15.0\n"
          ]
        }
      ],
      "source": [
        "import tensorflow as tf\n",
        "import numpy as np\n",
        "print(tf.__version__)"
      ]
    },
    {
      "cell_type": "code",
      "source": [
        "mnist = tf.keras.datasets.mnist\n",
        "(x_train, y_train), (x_test, y_test) = mnist.load_data()\n",
        "x_train, x_test = x_train/255.0, x_test/255.0"
      ],
      "metadata": {
        "id": "FJF5k5N7_Agh"
      },
      "execution_count": 16,
      "outputs": []
    },
    {
      "cell_type": "code",
      "source": [
        "# keras의 sequential모델은 가장 기본적인 모델이다.\n",
        "# 여러 개의 레이어를 순차적으로 쌓아서 구성한다.\n",
        "# 첫번째 layer에만 input shape을 지정해준다. 이후 layer들은 자동으로 연결된다.\n",
        "model = tf.keras.models.Sequential([\n",
        "    tf.keras.layers.Flatten(input_shape=(28,28)),\n",
        "    tf.keras.layers.Dense(128, activation='relu'),\n",
        "    tf.keras.layers.Dropout(0.2),\n",
        "    tf.keras.layers.Dense(10, activation='softmax')\n",
        "])"
      ],
      "metadata": {
        "id": "Kq5AC9fg_RU-"
      },
      "execution_count": 17,
      "outputs": []
    },
    {
      "cell_type": "code",
      "source": [
        "model.compile(optimizer='adam',\n",
        "              loss='sparse_categorical_crossentropy',\n",
        "              metrics=['accuracy'])"
      ],
      "metadata": {
        "id": "g2hzY4UaB-bb"
      },
      "execution_count": 18,
      "outputs": []
    },
    {
      "cell_type": "code",
      "source": [
        "# pred는 텐서(tensor) 객체이다.\n",
        "# 텐서는 다차원 배열로, tensorflow에서 데이터를 표현하고 연산을 수행하는 데 사용된다\n",
        "# numpy()메서드를 사용해서 텐서를 배열로 다룰 수 있다. (호환되도록 설계되어 있다)\n",
        "pred = model(x_train[:1])\n",
        "pred # 1행 10열의 2차원 배열"
      ],
      "metadata": {
        "colab": {
          "base_uri": "https://localhost:8080/"
        },
        "id": "_VMfM5_9DHHa",
        "outputId": "0dcc352b-cd13-4107-d13b-85f5e6d6baba"
      },
      "execution_count": 31,
      "outputs": [
        {
          "output_type": "execute_result",
          "data": {
            "text/plain": [
              "<tf.Tensor: shape=(1, 10), dtype=float32, numpy=\n",
              "array([[0.1822737 , 0.07032003, 0.07481067, 0.11530907, 0.07448664,\n",
              "        0.10825825, 0.0487538 , 0.15679963, 0.08957556, 0.07941269]],\n",
              "      dtype=float32)>"
            ]
          },
          "metadata": {},
          "execution_count": 31
        }
      ]
    },
    {
      "cell_type": "code",
      "source": [
        "mypred = pred.numpy()\n",
        "print(mypred)\n",
        "print(np.sum(mypred[0])) # 마지막 layer의 활성화 함수가 softmax이므로 총 합은 1이다"
      ],
      "metadata": {
        "colab": {
          "base_uri": "https://localhost:8080/"
        },
        "id": "C-ariytWFXlI",
        "outputId": "bf34dc79-bfb5-4cbd-9be1-73be7e8960ad"
      },
      "execution_count": 33,
      "outputs": [
        {
          "output_type": "stream",
          "name": "stdout",
          "text": [
            "[[0.1822737  0.07032003 0.07481067 0.11530907 0.07448664 0.10825825\n",
            "  0.0487538  0.15679963 0.08957556 0.07941269]]\n",
            "1.0\n"
          ]
        }
      ]
    },
    {
      "cell_type": "code",
      "source": [
        "loss_fn = tf.keras.losses.SparseCategoricalCrossentropy(from_logits=True)\n",
        "loss_fn(y_train[:1], mypred).numpy()"
      ],
      "metadata": {
        "colab": {
          "base_uri": "https://localhost:8080/"
        },
        "id": "WQ6nKe8MG1OB",
        "outputId": "431f5db6-cd05-4a49-cdbe-1bc6554a13c2"
      },
      "execution_count": 40,
      "outputs": [
        {
          "output_type": "execute_result",
          "data": {
            "text/plain": [
              "2.295117"
            ]
          },
          "metadata": {},
          "execution_count": 40
        }
      ]
    },
    {
      "cell_type": "code",
      "source": [
        "model.compile(optimizer='adam',\n",
        "              loss=loss_fn,\n",
        "              metrics=['accuracy'])"
      ],
      "metadata": {
        "id": "01XIG6BsJiSy"
      },
      "execution_count": 41,
      "outputs": []
    },
    {
      "cell_type": "code",
      "source": [
        "model.fit(x_train, y_train, epochs=5)"
      ],
      "metadata": {
        "colab": {
          "base_uri": "https://localhost:8080/"
        },
        "id": "KP2q-hf_OBgb",
        "outputId": "c22271a1-5162-4c1a-fc92-fda636ca48b0"
      },
      "execution_count": 43,
      "outputs": [
        {
          "output_type": "stream",
          "name": "stdout",
          "text": [
            "Epoch 1/5\n",
            "1875/1875 [==============================] - 10s 5ms/step - loss: 0.0653 - accuracy: 0.9790\n",
            "Epoch 2/5\n",
            "1875/1875 [==============================] - 9s 5ms/step - loss: 0.0580 - accuracy: 0.9815\n",
            "Epoch 3/5\n",
            "1875/1875 [==============================] - 8s 4ms/step - loss: 0.0538 - accuracy: 0.9828\n",
            "Epoch 4/5\n",
            "1875/1875 [==============================] - 9s 5ms/step - loss: 0.0468 - accuracy: 0.9846\n",
            "Epoch 5/5\n",
            "1875/1875 [==============================] - 9s 5ms/step - loss: 0.0443 - accuracy: 0.9853\n"
          ]
        },
        {
          "output_type": "execute_result",
          "data": {
            "text/plain": [
              "<keras.src.callbacks.History at 0x7bc0dafdb1f0>"
            ]
          },
          "metadata": {},
          "execution_count": 43
        }
      ]
    },
    {
      "cell_type": "code",
      "source": [
        "model.evaluate(x_test, y_test, verbose=2)"
      ],
      "metadata": {
        "colab": {
          "base_uri": "https://localhost:8080/"
        },
        "id": "Uj7TRTqjOKIc",
        "outputId": "43cdfe2c-53d9-4fc0-fea0-e50a5bb75c62"
      },
      "execution_count": 44,
      "outputs": [
        {
          "output_type": "stream",
          "name": "stderr",
          "text": [
            "/usr/local/lib/python3.10/dist-packages/keras/src/backend.py:5727: UserWarning: \"`sparse_categorical_crossentropy` received `from_logits=True`, but the `output` argument was produced by a Softmax activation and thus does not represent logits. Was this intended?\n",
            "  output, from_logits = _get_logits(\n"
          ]
        },
        {
          "output_type": "stream",
          "name": "stdout",
          "text": [
            "313/313 - 1s - loss: 0.0750 - accuracy: 0.9790 - 882ms/epoch - 3ms/step\n"
          ]
        },
        {
          "output_type": "execute_result",
          "data": {
            "text/plain": [
              "[0.07503161579370499, 0.9789999723434448]"
            ]
          },
          "metadata": {},
          "execution_count": 44
        }
      ]
    },
    {
      "cell_type": "code",
      "source": [
        "probability_model = tf.keras.Sequential([\n",
        "    model,\n",
        "    tf.keras.layers.Softmax()\n",
        "])\n",
        "probability_model(x_test[:5])"
      ],
      "metadata": {
        "colab": {
          "base_uri": "https://localhost:8080/"
        },
        "id": "t2vw2NzyQUBi",
        "outputId": "bf60840b-5fd5-4e63-8d9d-c3af29626dba"
      },
      "execution_count": 45,
      "outputs": [
        {
          "output_type": "execute_result",
          "data": {
            "text/plain": [
              "<tf.Tensor: shape=(5, 10), dtype=float32, numpy=\n",
              "array([[0.08533678, 0.08533678, 0.0853368 , 0.08533699, 0.08533678,\n",
              "        0.08533678, 0.08533678, 0.23196878, 0.08533678, 0.08533678],\n",
              "       [0.08533692, 0.08533807, 0.23196661, 0.08533694, 0.08533692,\n",
              "        0.08533692, 0.08533692, 0.08533692, 0.08533692, 0.08533692],\n",
              "       [0.08537316, 0.23139213, 0.08537508, 0.08537319, 0.08537766,\n",
              "        0.08537323, 0.08537412, 0.08560891, 0.08537933, 0.08537316],\n",
              "       [0.2319692 , 0.08533675, 0.08533676, 0.08533675, 0.08533675,\n",
              "        0.08533676, 0.08533675, 0.0853368 , 0.08533675, 0.08533677],\n",
              "       [0.0853401 , 0.0853401 , 0.08534011, 0.0853401 , 0.23191622,\n",
              "        0.0853401 , 0.0853401 , 0.08534113, 0.0853401 , 0.08536194]],\n",
              "      dtype=float32)>"
            ]
          },
          "metadata": {},
          "execution_count": 45
        }
      ]
    }
  ]
}