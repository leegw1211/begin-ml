{
  "nbformat": 4,
  "nbformat_minor": 0,
  "metadata": {
    "colab": {
      "provenance": [],
      "authorship_tag": "ABX9TyPmYpIgLDugjyg6j0ZY2DB1",
      "include_colab_link": true
    },
    "kernelspec": {
      "name": "python3",
      "display_name": "Python 3"
    },
    "language_info": {
      "name": "python"
    }
  },
  "cells": [
    {
      "cell_type": "markdown",
      "metadata": {
        "id": "view-in-github",
        "colab_type": "text"
      },
      "source": [
        "<a href=\"https://colab.research.google.com/github/leegw1211/begin-ml/blob/main/tensorflow_tutorial.ipynb\" target=\"_parent\"><img src=\"https://colab.research.google.com/assets/colab-badge.svg\" alt=\"Open In Colab\"/></a>"
      ]
    },
    {
      "cell_type": "code",
      "source": [
        "# tensorflow 입문하기\n",
        "# https://www.tensorflow.org/tutorials/quickstart/beginner?hl=ko"
      ],
      "metadata": {
        "id": "kSztAqQ7QVb3"
      },
      "execution_count": 1,
      "outputs": []
    },
    {
      "cell_type": "code",
      "execution_count": 2,
      "metadata": {
        "colab": {
          "base_uri": "https://localhost:8080/"
        },
        "id": "5-oDECE851de",
        "outputId": "309eb02e-13c4-4e2e-9e22-2cbbec9a378f"
      },
      "outputs": [
        {
          "output_type": "stream",
          "name": "stdout",
          "text": [
            "2.15.0\n"
          ]
        }
      ],
      "source": [
        "import tensorflow as tf\n",
        "import numpy as np\n",
        "print(tf.__version__)"
      ]
    },
    {
      "cell_type": "code",
      "source": [
        "mnist = tf.keras.datasets.mnist\n",
        "(x_train, y_train), (x_test, y_test) = mnist.load_data()\n",
        "x_train, x_test = x_train/255.0, x_test/255.0"
      ],
      "metadata": {
        "id": "FJF5k5N7_Agh",
        "colab": {
          "base_uri": "https://localhost:8080/"
        },
        "outputId": "5f58915c-376a-46e8-9d88-2634e99ef949"
      },
      "execution_count": 3,
      "outputs": [
        {
          "output_type": "stream",
          "name": "stdout",
          "text": [
            "Downloading data from https://storage.googleapis.com/tensorflow/tf-keras-datasets/mnist.npz\n",
            "11490434/11490434 [==============================] - 0s 0us/step\n"
          ]
        }
      ]
    },
    {
      "cell_type": "code",
      "source": [
        "# keras의 sequential모델은 가장 기본적인 모델이다.\n",
        "# 여러 개의 레이어를 순차적으로 쌓아서 구성한다.\n",
        "# 첫번째 layer에만 input shape을 지정해준다. 이후 layer들은 자동으로 연결된다.\n",
        "model = tf.keras.models.Sequential([\n",
        "    tf.keras.layers.Flatten(input_shape=(28,28)),\n",
        "    tf.keras.layers.Dense(128, activation='relu'),\n",
        "    tf.keras.layers.Dropout(0.2),\n",
        "    tf.keras.layers.Dense(10, activation='softmax')\n",
        "])"
      ],
      "metadata": {
        "id": "Kq5AC9fg_RU-"
      },
      "execution_count": 4,
      "outputs": []
    },
    {
      "cell_type": "code",
      "source": [
        "model.compile(optimizer='adam',\n",
        "              loss='sparse_categorical_crossentropy',\n",
        "              metrics=['accuracy'])"
      ],
      "metadata": {
        "id": "g2hzY4UaB-bb"
      },
      "execution_count": 5,
      "outputs": []
    },
    {
      "cell_type": "code",
      "source": [
        "# pred는 텐서(tensor) 객체이다.\n",
        "# 텐서는 다차원 배열로, tensorflow에서 데이터를 표현하고 연산을 수행하는 데 사용된다\n",
        "# numpy()메서드를 사용해서 텐서를 배열로 다룰 수 있다. (호환되도록 설계되어 있다)\n",
        "pred = model(x_train[:1])\n",
        "pred # 1행 10열의 2차원 배열"
      ],
      "metadata": {
        "colab": {
          "base_uri": "https://localhost:8080/"
        },
        "id": "_VMfM5_9DHHa",
        "outputId": "5961b8b8-a832-4fd0-fe70-76afcbfe780b"
      },
      "execution_count": 6,
      "outputs": [
        {
          "output_type": "execute_result",
          "data": {
            "text/plain": [
              "<tf.Tensor: shape=(1, 10), dtype=float32, numpy=\n",
              "array([[0.13333029, 0.07559424, 0.2182143 , 0.10576788, 0.08319917,\n",
              "        0.10043005, 0.06747405, 0.03801482, 0.0983483 , 0.0796269 ]],\n",
              "      dtype=float32)>"
            ]
          },
          "metadata": {},
          "execution_count": 6
        }
      ]
    },
    {
      "cell_type": "code",
      "source": [
        "mypred = pred.numpy()\n",
        "print(mypred)\n",
        "print(np.sum(mypred[0])) # 마지막 layer의 활성화 함수가 softmax이므로 총 합은 1이다"
      ],
      "metadata": {
        "colab": {
          "base_uri": "https://localhost:8080/"
        },
        "id": "C-ariytWFXlI",
        "outputId": "8d432c62-a280-4f04-8ea7-d8e37d6b555c"
      },
      "execution_count": 7,
      "outputs": [
        {
          "output_type": "stream",
          "name": "stdout",
          "text": [
            "[[0.13333029 0.07559424 0.2182143  0.10576788 0.08319917 0.10043005\n",
            "  0.06747405 0.03801482 0.0983483  0.0796269 ]]\n",
            "1.0\n"
          ]
        }
      ]
    },
    {
      "cell_type": "code",
      "source": [
        "# logit은 확률을 나타내는 값이 아니라, 확률을 생성하는 함수의 입력으로 사용되는 값이다.\n",
        "# softmax함수를 사용하여 다중 클래스 분류를 수행하는 경우, 모델의 출력은 확률 분포일 것이다.\n",
        "# softmax함수를 거치기 전의 값을 그대로 손실 함수에 전달하려고 하면, from_logits=True로 설정해 줘야 한다\n",
        "loss_fn = tf.keras.losses.SparseCategoricalCrossentropy()\n",
        "#loss_fn = tf.keras.losses.SparseCategoricalCrossentropy(from_logits=True)\n",
        "loss_fn(y_train[:1], mypred).numpy()"
      ],
      "metadata": {
        "colab": {
          "base_uri": "https://localhost:8080/"
        },
        "id": "WQ6nKe8MG1OB",
        "outputId": "be483c64-1306-4b62-a3c8-df95c03c8d5d"
      },
      "execution_count": 9,
      "outputs": [
        {
          "output_type": "execute_result",
          "data": {
            "text/plain": [
              "2.2982938"
            ]
          },
          "metadata": {},
          "execution_count": 9
        }
      ]
    },
    {
      "cell_type": "code",
      "source": [
        "model.compile(optimizer='adam',\n",
        "              loss=loss_fn,\n",
        "              metrics=['accuracy'])"
      ],
      "metadata": {
        "id": "01XIG6BsJiSy"
      },
      "execution_count": 10,
      "outputs": []
    },
    {
      "cell_type": "code",
      "source": [
        "model.fit(x_train, y_train, epochs=5)"
      ],
      "metadata": {
        "colab": {
          "base_uri": "https://localhost:8080/"
        },
        "id": "KP2q-hf_OBgb",
        "outputId": "9443587d-14ee-4729-93d6-77306679b535"
      },
      "execution_count": 11,
      "outputs": [
        {
          "output_type": "stream",
          "name": "stdout",
          "text": [
            "Epoch 1/5\n",
            "1875/1875 [==============================] - 9s 4ms/step - loss: 0.2994 - accuracy: 0.9113\n",
            "Epoch 2/5\n",
            "1875/1875 [==============================] - 8s 4ms/step - loss: 0.1427 - accuracy: 0.9571\n",
            "Epoch 3/5\n",
            "1875/1875 [==============================] - 8s 4ms/step - loss: 0.1090 - accuracy: 0.9666\n",
            "Epoch 4/5\n",
            "1875/1875 [==============================] - 7s 4ms/step - loss: 0.0872 - accuracy: 0.9738\n",
            "Epoch 5/5\n",
            "1875/1875 [==============================] - 7s 4ms/step - loss: 0.0749 - accuracy: 0.9762\n"
          ]
        },
        {
          "output_type": "execute_result",
          "data": {
            "text/plain": [
              "<keras.src.callbacks.History at 0x7b975a95b8b0>"
            ]
          },
          "metadata": {},
          "execution_count": 11
        }
      ]
    },
    {
      "cell_type": "code",
      "source": [
        "model.evaluate(x_test, y_test, verbose=2)"
      ],
      "metadata": {
        "colab": {
          "base_uri": "https://localhost:8080/"
        },
        "id": "Uj7TRTqjOKIc",
        "outputId": "1fcdcc99-f078-4c5f-9bdf-d78b862a36ee"
      },
      "execution_count": 12,
      "outputs": [
        {
          "output_type": "stream",
          "name": "stdout",
          "text": [
            "313/313 - 1s - loss: 0.0718 - accuracy: 0.9774 - 636ms/epoch - 2ms/step\n"
          ]
        },
        {
          "output_type": "execute_result",
          "data": {
            "text/plain": [
              "[0.07177814841270447, 0.977400004863739]"
            ]
          },
          "metadata": {},
          "execution_count": 12
        }
      ]
    },
    {
      "cell_type": "code",
      "source": [
        "probability_model = tf.keras.Sequential([\n",
        "    model,\n",
        "    tf.keras.layers.Softmax()\n",
        "])\n",
        "probability_model(x_test[:5])"
      ],
      "metadata": {
        "colab": {
          "base_uri": "https://localhost:8080/"
        },
        "id": "t2vw2NzyQUBi",
        "outputId": "1d2f9689-7f1e-4493-b030-d45c98804f5f"
      },
      "execution_count": 13,
      "outputs": [
        {
          "output_type": "execute_result",
          "data": {
            "text/plain": [
              "<tf.Tensor: shape=(5, 10), dtype=float32, numpy=\n",
              "array([[0.08534358, 0.08534359, 0.08534406, 0.08538959, 0.08534358,\n",
              "        0.08534362, 0.08534358, 0.23186105, 0.08534358, 0.08534367],\n",
              "       [0.08533984, 0.08535876, 0.23192011, 0.08534212, 0.08533984,\n",
              "        0.08533986, 0.08533984, 0.08533984, 0.08533984, 0.08533984],\n",
              "       [0.08535164, 0.23173371, 0.08535638, 0.08535312, 0.08535495,\n",
              "        0.08535188, 0.08535261, 0.08541604, 0.0853778 , 0.08535191],\n",
              "       [0.23194669, 0.08533818, 0.085343  , 0.0853382 , 0.08533818,\n",
              "        0.08533822, 0.08533851, 0.08534221, 0.08533818, 0.08533866],\n",
              "       [0.08535133, 0.08535016, 0.0853524 , 0.08535016, 0.23175691,\n",
              "        0.08535051, 0.08535095, 0.08535708, 0.08535055, 0.08542994]],\n",
              "      dtype=float32)>"
            ]
          },
          "metadata": {},
          "execution_count": 13
        }
      ]
    }
  ]
}